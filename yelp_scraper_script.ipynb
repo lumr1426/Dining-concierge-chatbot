{
 "cells": [
  {
   "cell_type": "code",
   "execution_count": 1,
   "id": "4d453758",
   "metadata": {},
   "outputs": [],
   "source": [
    "import requests\n",
    "import json"
   ]
  },
  {
   "cell_type": "code",
   "execution_count": 3,
   "id": "1bfa063a",
   "metadata": {},
   "outputs": [
    {
     "name": "stdout",
     "output_type": "stream",
     "text": [
      "Total number of businesses: 1000\n"
     ]
    }
   ],
   "source": [
    "# Yelp API Key I used\n",
    "api_key = 'API_KEY'\n",
    "\n",
    "# Define the API endpoint and parameters\n",
    "url = 'https://api.yelp.com/v3/businesses/search'\n",
    "\n",
    "# Adjust wanted cuisine every time when scraping\n",
    "# Our cuisine: Asian, Chinese, Hamburger, Pizza, Thai, Halal, Indian, Korean\n",
    "cuisine = 'korean restaurants'\n",
    "\n",
    "# setting up params\n",
    "params = {\n",
    "    'location': 'Manhattan',\n",
    "    'term': cuisine\n",
    "}\n",
    "\n",
    "# Set up the headers with Yelp API Key for authentication\n",
    "headers = {\n",
    "    'Authorization': f'Bearer {api_key}'\n",
    "}\n",
    "\n",
    "businesses = []\n",
    "offset = 0\n",
    "total_results = 0\n",
    "\n",
    "# Can adjust the number highly to scrap more\n",
    "while offset < 1000:\n",
    "    params['offset'] = offset\n",
    "    \n",
    "    # Make the GET request to the Yelp API\n",
    "    response = requests.get(url, params=params, headers=headers)\n",
    "\n",
    "    # Check the response status code\n",
    "    if response.status_code == 200:\n",
    "        data = response.json()\n",
    "        \n",
    "        # Append businesses from this page to the list\n",
    "        businesses.extend(data['businesses'])\n",
    "        \n",
    "        # Update total_results and offset for the next page\n",
    "        total_results = data['total']\n",
    "        offset += len(data['businesses'])\n",
    "    else:\n",
    "        print(f\"Error: {response.status_code}\")\n",
    "        break\n",
    "\n",
    "# Checking how many data have been scraped\n",
    "print(f\"Total number of businesses: {len(businesses)}\")"
   ]
  },
  {
   "cell_type": "code",
   "execution_count": 4,
   "id": "54e5b4f3",
   "metadata": {},
   "outputs": [],
   "source": [
    "# Saving as json data\n",
    "with open(f'/Users/danielcha/Documents/yelp_restaurants/{cuisine}.json', 'w') as json_file:\n",
    "    json.dump(businesses, json_file)"
   ]
  }
 ],
 "metadata": {
  "kernelspec": {
   "display_name": "Python 3 (ipykernel)",
   "language": "python",
   "name": "python3"
  },
  "language_info": {
   "codemirror_mode": {
    "name": "ipython",
    "version": 3
   },
   "file_extension": ".py",
   "mimetype": "text/x-python",
   "name": "python",
   "nbconvert_exporter": "python",
   "pygments_lexer": "ipython3",
   "version": "3.11.4"
  }
 },
 "nbformat": 4,
 "nbformat_minor": 5
}
